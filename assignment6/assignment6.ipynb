{
 "cells": [
  {
   "cell_type": "code",
   "execution_count": 77,
   "metadata": {},
   "outputs": [],
   "source": [
    "import os, sys, glob\n",
    "import pandas as pd\n",
    "import numpy as np\n",
    "\n",
    "path = '../test_dataset/'\n",
    "        \n",
    "def find_components(file):\n",
    "    data = pd.read_csv(file)\n",
    "    data.columns.values[0] = 'voxel_id'\n",
    "    data = data[['voxel_id', 'x', 'y', 'z']]\n",
    "    data['visited'] = False\n",
    "    component_id = 1\n",
    "    path_to_save = file[:-4]\n",
    "    result_data = pd.DataFrame(columns=['component_id', 'total_voxels', 'internal_voxels', 'external_voxels', '%_of_internal_voxels', '%_of_external_voxels', 'voxels'])\n",
    "    f = open(path_to_save + '_non_zero_percentage_of_interior_voxels.txt', 'w+')\n",
    "    \n",
    "    def label_components(voxel_id):\n",
    "        if data.at[voxel_id, 'visited'] == False:\n",
    "            data.at[voxel_id, 'visited'] = True\n",
    "            result_data.at[component_id, 'voxels'].append(voxel_id)\n",
    "            voxel = data.loc[voxel_id]\n",
    "            neighbor_voxels = data[(abs(voxel['x'] - data['x']) + abs(voxel['y'] - data['y']) + abs(voxel['z'] - data['z'])) == 1].index\n",
    "            if len(neighbor_voxels) == 6:\n",
    "                nonlocal internal_voxels\n",
    "                internal_voxels += 1\n",
    "            for neighbor_voxel_id in neighbor_voxels:\n",
    "                label_components(neighbor_voxel_id)\n",
    "    \n",
    "    for voxel_id in data.index:\n",
    "        if data.at[voxel_id, 'visited'] == False:\n",
    "            result_data.at[component_id, 'voxels'] = []\n",
    "            internal_voxels = 0\n",
    "            label_components(voxel_id)\n",
    "            result_data.at[component_id, 'voxels'].sort()\n",
    "            total_voxels = len(result_data.at[component_id, 'voxels'])\n",
    "            result_data.at[component_id, 'total_voxels'] = total_voxels\n",
    "            external_voxels = total_voxels - internal_voxels\n",
    "            result_data.at[component_id, 'component_id'] = component_id\n",
    "            result_data.at[component_id, 'internal_voxels'] = internal_voxels\n",
    "            result_data.at[component_id, 'external_voxels'] = external_voxels\n",
    "            result_data.at[component_id, '%_of_internal_voxels'] = round((internal_voxels / total_voxels) * 100, 2)\n",
    "            result_data.at[component_id, '%_of_external_voxels'] = round((external_voxels / total_voxels) * 100, 2)\n",
    "            # create a text file with non-zero internals\n",
    "            if internal_voxels > 0:\n",
    "                f.write(str(result_data.loc[component_id]) + '\\n\\n\\n')\n",
    "            component_id += 1\n",
    "    \n",
    "    f.close()\n",
    "    result_data.to_csv(path_to_save + '_connected_components.csv')    \n",
    "            \n",
    "for file in sorted(glob.glob(os.path.join(path, '**/*.csv'), recursive=True)):\n",
    "    find_components(file)"
   ]
  },
  {
   "cell_type": "code",
   "execution_count": null,
   "metadata": {},
   "outputs": [],
   "source": []
  }
 ],
 "metadata": {
  "kernelspec": {
   "display_name": "Python 3",
   "language": "python",
   "name": "python3"
  },
  "language_info": {
   "codemirror_mode": {
    "name": "ipython",
    "version": 3
   },
   "file_extension": ".py",
   "mimetype": "text/x-python",
   "name": "python",
   "nbconvert_exporter": "python",
   "pygments_lexer": "ipython3",
   "version": "3.6.5"
  }
 },
 "nbformat": 4,
 "nbformat_minor": 2
}
